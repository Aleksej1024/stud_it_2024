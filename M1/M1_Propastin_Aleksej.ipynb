{
 "cells": [
  {
   "cell_type": "markdown",
   "id": "b1b4514a",
   "metadata": {},
   "source": [
    "# Модуль 1"
   ]
  },
  {
   "cell_type": "markdown",
   "id": "20c5d6d9",
   "metadata": {},
   "source": [
    "## Часть 1"
   ]
  },
  {
   "cell_type": "code",
   "execution_count": 14,
   "id": "3a194404",
   "metadata": {},
   "outputs": [],
   "source": [
    "import pandas as pd\n",
    "import numpy as np\n",
    "import matplotlib.pyplot as plt\n",
    "import seaborn as sns\n",
    "import scipy as sp\n",
    "import warnings\n",
    "warnings.filterwarnings('ignore')"
   ]
  },
  {
   "cell_type": "markdown",
   "id": "f33ccbc9",
   "metadata": {},
   "source": [
    "### 1.1"
   ]
  },
  {
   "cell_type": "code",
   "execution_count": 12,
   "id": "bdf3bd2c",
   "metadata": {},
   "outputs": [],
   "source": [
    "from pyutil import filereplace\n",
    "\n",
    "filereplace(\"./training_datasets/Life_expectancy_dataset.csv\",\"Greenland, Denmark\",\"Greenland Denmark\")"
   ]
  },
  {
   "cell_type": "code",
   "execution_count": 31,
   "id": "14cb3d69",
   "metadata": {},
   "outputs": [],
   "source": [
    "led=pd.read_csv('./training_datasets/Life_expectancy_dataset.csv')"
   ]
  },
  {
   "cell_type": "code",
   "execution_count": 14,
   "id": "2736317c",
   "metadata": {},
   "outputs": [
    {
     "data": {
      "text/html": [
       "<div>\n",
       "<style scoped>\n",
       "    .dataframe tbody tr th:only-of-type {\n",
       "        vertical-align: middle;\n",
       "    }\n",
       "\n",
       "    .dataframe tbody tr th {\n",
       "        vertical-align: top;\n",
       "    }\n",
       "\n",
       "    .dataframe thead th {\n",
       "        text-align: right;\n",
       "    }\n",
       "</style>\n",
       "<table border=\"1\" class=\"dataframe\">\n",
       "  <thead>\n",
       "    <tr style=\"text-align: right;\">\n",
       "      <th></th>\n",
       "      <th>Rank</th>\n",
       "      <th>Country</th>\n",
       "      <th>Overall Life</th>\n",
       "      <th>Male Life</th>\n",
       "      <th>Female Life</th>\n",
       "      <th>Continent</th>\n",
       "    </tr>\n",
       "  </thead>\n",
       "  <tbody>\n",
       "    <tr>\n",
       "      <th>0</th>\n",
       "      <td>1</td>\n",
       "      <td>Monaco</td>\n",
       "      <td>89.5</td>\n",
       "      <td>85.6</td>\n",
       "      <td>93.5</td>\n",
       "      <td>Europe</td>\n",
       "    </tr>\n",
       "    <tr>\n",
       "      <th>1</th>\n",
       "      <td>2</td>\n",
       "      <td>Japan</td>\n",
       "      <td>85.0</td>\n",
       "      <td>81.7</td>\n",
       "      <td>88.5</td>\n",
       "      <td>Asia</td>\n",
       "    </tr>\n",
       "    <tr>\n",
       "      <th>2</th>\n",
       "      <td>3</td>\n",
       "      <td>Singapore</td>\n",
       "      <td>85.0</td>\n",
       "      <td>82.3</td>\n",
       "      <td>87.8</td>\n",
       "      <td>Asia</td>\n",
       "    </tr>\n",
       "    <tr>\n",
       "      <th>3</th>\n",
       "      <td>4</td>\n",
       "      <td>Macau, China</td>\n",
       "      <td>84.5</td>\n",
       "      <td>81.6</td>\n",
       "      <td>87.6</td>\n",
       "      <td>Asia</td>\n",
       "    </tr>\n",
       "    <tr>\n",
       "      <th>4</th>\n",
       "      <td>5</td>\n",
       "      <td>San Marino</td>\n",
       "      <td>83.3</td>\n",
       "      <td>80.7</td>\n",
       "      <td>86.1</td>\n",
       "      <td>Europe</td>\n",
       "    </tr>\n",
       "  </tbody>\n",
       "</table>\n",
       "</div>"
      ],
      "text/plain": [
       "  Rank       Country  Overall Life  Male Life  Female Life Continent\n",
       "0    1        Monaco          89.5       85.6         93.5    Europe\n",
       "1    2         Japan          85.0       81.7         88.5      Asia\n",
       "2    3     Singapore          85.0       82.3         87.8      Asia\n",
       "3    4  Macau, China          84.5       81.6         87.6      Asia\n",
       "4    5    San Marino          83.3       80.7         86.1    Europe"
      ]
     },
     "execution_count": 14,
     "metadata": {},
     "output_type": "execute_result"
    }
   ],
   "source": [
    "led.head()"
   ]
  },
  {
   "cell_type": "code",
   "execution_count": 15,
   "id": "fe12ed33",
   "metadata": {},
   "outputs": [
    {
     "name": "stdout",
     "output_type": "stream",
     "text": [
      "<class 'pandas.core.frame.DataFrame'>\n",
      "RangeIndex: 223 entries, 0 to 222\n",
      "Data columns (total 6 columns):\n",
      " #   Column        Non-Null Count  Dtype  \n",
      "---  ------        --------------  -----  \n",
      " 0   Rank          223 non-null    object \n",
      " 1   Country       91 non-null     object \n",
      " 2   Overall Life  90 non-null     float64\n",
      " 3   Male Life     90 non-null     float64\n",
      " 4   Female Life   90 non-null     float64\n",
      " 5   Continent     90 non-null     object \n",
      "dtypes: float64(3), object(3)\n",
      "memory usage: 10.6+ KB\n"
     ]
    }
   ],
   "source": [
    "led.info()"
   ]
  },
  {
   "cell_type": "code",
   "execution_count": 16,
   "id": "45a2d02b",
   "metadata": {},
   "outputs": [
    {
     "data": {
      "text/html": [
       "<div>\n",
       "<style scoped>\n",
       "    .dataframe tbody tr th:only-of-type {\n",
       "        vertical-align: middle;\n",
       "    }\n",
       "\n",
       "    .dataframe tbody tr th {\n",
       "        vertical-align: top;\n",
       "    }\n",
       "\n",
       "    .dataframe thead th {\n",
       "        text-align: right;\n",
       "    }\n",
       "</style>\n",
       "<table border=\"1\" class=\"dataframe\">\n",
       "  <thead>\n",
       "    <tr style=\"text-align: right;\">\n",
       "      <th></th>\n",
       "      <th>Overall Life</th>\n",
       "      <th>Male Life</th>\n",
       "      <th>Female Life</th>\n",
       "    </tr>\n",
       "  </thead>\n",
       "  <tbody>\n",
       "    <tr>\n",
       "      <th>count</th>\n",
       "      <td>90.000000</td>\n",
       "      <td>90.000000</td>\n",
       "      <td>90.000000</td>\n",
       "    </tr>\n",
       "    <tr>\n",
       "      <th>mean</th>\n",
       "      <td>79.727778</td>\n",
       "      <td>77.078889</td>\n",
       "      <td>82.514444</td>\n",
       "    </tr>\n",
       "    <tr>\n",
       "      <th>std</th>\n",
       "      <td>2.495075</td>\n",
       "      <td>2.587328</td>\n",
       "      <td>2.581854</td>\n",
       "    </tr>\n",
       "    <tr>\n",
       "      <th>min</th>\n",
       "      <td>76.100000</td>\n",
       "      <td>71.900000</td>\n",
       "      <td>77.800000</td>\n",
       "    </tr>\n",
       "    <tr>\n",
       "      <th>25%</th>\n",
       "      <td>77.625000</td>\n",
       "      <td>74.925000</td>\n",
       "      <td>80.525000</td>\n",
       "    </tr>\n",
       "    <tr>\n",
       "      <th>50%</th>\n",
       "      <td>79.450000</td>\n",
       "      <td>76.850000</td>\n",
       "      <td>82.650000</td>\n",
       "    </tr>\n",
       "    <tr>\n",
       "      <th>75%</th>\n",
       "      <td>81.475000</td>\n",
       "      <td>79.050000</td>\n",
       "      <td>84.100000</td>\n",
       "    </tr>\n",
       "    <tr>\n",
       "      <th>max</th>\n",
       "      <td>89.500000</td>\n",
       "      <td>85.600000</td>\n",
       "      <td>93.500000</td>\n",
       "    </tr>\n",
       "  </tbody>\n",
       "</table>\n",
       "</div>"
      ],
      "text/plain": [
       "       Overall Life  Male Life  Female Life\n",
       "count     90.000000  90.000000    90.000000\n",
       "mean      79.727778  77.078889    82.514444\n",
       "std        2.495075   2.587328     2.581854\n",
       "min       76.100000  71.900000    77.800000\n",
       "25%       77.625000  74.925000    80.525000\n",
       "50%       79.450000  76.850000    82.650000\n",
       "75%       81.475000  79.050000    84.100000\n",
       "max       89.500000  85.600000    93.500000"
      ]
     },
     "execution_count": 16,
     "metadata": {},
     "output_type": "execute_result"
    }
   ],
   "source": [
    "led.describe()"
   ]
  },
  {
   "cell_type": "code",
   "execution_count": 17,
   "id": "a8c26fbe",
   "metadata": {},
   "outputs": [
    {
     "name": "stdout",
     "output_type": "stream",
     "text": [
      "<class 'pandas.core.frame.DataFrame'>\n",
      "RangeIndex: 223 entries, 0 to 222\n",
      "Data columns (total 6 columns):\n",
      " #   Column        Non-Null Count  Dtype  \n",
      "---  ------        --------------  -----  \n",
      " 0   Rank          223 non-null    object \n",
      " 1   Country       91 non-null     object \n",
      " 2   Overall Life  90 non-null     float64\n",
      " 3   Male Life     90 non-null     float64\n",
      " 4   Female Life   90 non-null     float64\n",
      " 5   Continent     90 non-null     object \n",
      "dtypes: float64(3), object(3)\n",
      "memory usage: 10.6+ KB\n"
     ]
    }
   ],
   "source": [
    "led.info()"
   ]
  },
  {
   "cell_type": "markdown",
   "id": "b6a6c50a",
   "metadata": {},
   "source": [
    "Во второй половине csv разделитель ; правим этот момент"
   ]
  },
  {
   "cell_type": "code",
   "execution_count": 32,
   "id": "8ad703a8",
   "metadata": {},
   "outputs": [],
   "source": [
    "for index, row in led.iterrows():\n",
    "    if index>=90:\n",
    "        data=row.Rank.split(';')\n",
    "        led.loc[index,'Rank']=int(data[0])\n",
    "        led.loc[index,'Country']=str(data[1])\n",
    "        led.loc[index,'Overall Life']=float(data[2])\n",
    "        led.loc[index,'Male Life']=float(data[3])\n",
    "        led.loc[index,'Female Life']=float(data[4])\n",
    "        led.loc[index,'Continent']=str(data[5])    "
   ]
  },
  {
   "cell_type": "code",
   "execution_count": 33,
   "id": "1dffa391",
   "metadata": {},
   "outputs": [
    {
     "name": "stdout",
     "output_type": "stream",
     "text": [
      "<class 'pandas.core.frame.DataFrame'>\n",
      "RangeIndex: 223 entries, 0 to 222\n",
      "Data columns (total 6 columns):\n",
      " #   Column        Non-Null Count  Dtype  \n",
      "---  ------        --------------  -----  \n",
      " 0   Rank          223 non-null    object \n",
      " 1   Country       223 non-null    object \n",
      " 2   Overall Life  223 non-null    float64\n",
      " 3   Male Life     223 non-null    float64\n",
      " 4   Female Life   223 non-null    float64\n",
      " 5   Continent     223 non-null    object \n",
      "dtypes: float64(3), object(3)\n",
      "memory usage: 10.6+ KB\n"
     ]
    }
   ],
   "source": [
    "led.info()"
   ]
  },
  {
   "cell_type": "code",
   "execution_count": 35,
   "id": "4bfa1e59",
   "metadata": {},
   "outputs": [
    {
     "data": {
      "text/html": [
       "<div>\n",
       "<style scoped>\n",
       "    .dataframe tbody tr th:only-of-type {\n",
       "        vertical-align: middle;\n",
       "    }\n",
       "\n",
       "    .dataframe tbody tr th {\n",
       "        vertical-align: top;\n",
       "    }\n",
       "\n",
       "    .dataframe thead th {\n",
       "        text-align: right;\n",
       "    }\n",
       "</style>\n",
       "<table border=\"1\" class=\"dataframe\">\n",
       "  <thead>\n",
       "    <tr style=\"text-align: right;\">\n",
       "      <th></th>\n",
       "      <th>Rank</th>\n",
       "      <th>Country</th>\n",
       "      <th>Overall Life</th>\n",
       "      <th>Male Life</th>\n",
       "      <th>Female Life</th>\n",
       "      <th>Continent</th>\n",
       "    </tr>\n",
       "  </thead>\n",
       "  <tbody>\n",
       "    <tr>\n",
       "      <th>13</th>\n",
       "      <td>14</td>\n",
       "      <td>Australia</td>\n",
       "      <td>82.2</td>\n",
       "      <td>79.8</td>\n",
       "      <td>84.8</td>\n",
       "      <td>Oceania</td>\n",
       "    </tr>\n",
       "    <tr>\n",
       "      <th>28</th>\n",
       "      <td>29</td>\n",
       "      <td>New Zealand</td>\n",
       "      <td>81.2</td>\n",
       "      <td>79.1</td>\n",
       "      <td>83.3</td>\n",
       "      <td>Oceania</td>\n",
       "    </tr>\n",
       "    <tr>\n",
       "      <th>43</th>\n",
       "      <td>44</td>\n",
       "      <td>Wallis and Futuna</td>\n",
       "      <td>79.7</td>\n",
       "      <td>76.7</td>\n",
       "      <td>82.8</td>\n",
       "      <td>Oceania</td>\n",
       "    </tr>\n",
       "    <tr>\n",
       "      <th>63</th>\n",
       "      <td>64</td>\n",
       "      <td>Northern Mariana Islands, US</td>\n",
       "      <td>78.0</td>\n",
       "      <td>75.3</td>\n",
       "      <td>80.8</td>\n",
       "      <td>Oceania</td>\n",
       "    </tr>\n",
       "    <tr>\n",
       "      <th>66</th>\n",
       "      <td>67</td>\n",
       "      <td>New Caledonia</td>\n",
       "      <td>77.7</td>\n",
       "      <td>73.7</td>\n",
       "      <td>81.9</td>\n",
       "      <td>Oceania</td>\n",
       "    </tr>\n",
       "    <tr>\n",
       "      <th>71</th>\n",
       "      <td>72</td>\n",
       "      <td>French Polynesia</td>\n",
       "      <td>77.2</td>\n",
       "      <td>74.9</td>\n",
       "      <td>79.6</td>\n",
       "      <td>Oceania</td>\n",
       "    </tr>\n",
       "    <tr>\n",
       "      <th>88</th>\n",
       "      <td>89</td>\n",
       "      <td>Tonga</td>\n",
       "      <td>76.2</td>\n",
       "      <td>74.7</td>\n",
       "      <td>77.8</td>\n",
       "      <td>Oceania</td>\n",
       "    </tr>\n",
       "    <tr>\n",
       "      <th>93</th>\n",
       "      <td>94</td>\n",
       "      <td>Cook Islands</td>\n",
       "      <td>75.8</td>\n",
       "      <td>73.0</td>\n",
       "      <td>78.8</td>\n",
       "      <td>Oceania</td>\n",
       "    </tr>\n",
       "    <tr>\n",
       "      <th>102</th>\n",
       "      <td>103</td>\n",
       "      <td>American Samoa</td>\n",
       "      <td>75.4</td>\n",
       "      <td>72.4</td>\n",
       "      <td>78.5</td>\n",
       "      <td>Oceania</td>\n",
       "    </tr>\n",
       "    <tr>\n",
       "      <th>106</th>\n",
       "      <td>107</td>\n",
       "      <td>Solomon Islands</td>\n",
       "      <td>75.3</td>\n",
       "      <td>72.7</td>\n",
       "      <td>78.1</td>\n",
       "      <td>Oceania</td>\n",
       "    </tr>\n",
       "    <tr>\n",
       "      <th>127</th>\n",
       "      <td>128</td>\n",
       "      <td>Samoa</td>\n",
       "      <td>73.7</td>\n",
       "      <td>70.8</td>\n",
       "      <td>76.8</td>\n",
       "      <td>Oceania</td>\n",
       "    </tr>\n",
       "    <tr>\n",
       "      <th>129</th>\n",
       "      <td>130</td>\n",
       "      <td>Vanuatu</td>\n",
       "      <td>73.4</td>\n",
       "      <td>71.8</td>\n",
       "      <td>75.1</td>\n",
       "      <td>Oceania</td>\n",
       "    </tr>\n",
       "    <tr>\n",
       "      <th>133</th>\n",
       "      <td>134</td>\n",
       "      <td>Marshall Islands</td>\n",
       "      <td>73.1</td>\n",
       "      <td>70.9</td>\n",
       "      <td>75.4</td>\n",
       "      <td>Oceania</td>\n",
       "    </tr>\n",
       "    <tr>\n",
       "      <th>134</th>\n",
       "      <td>135</td>\n",
       "      <td>Palau</td>\n",
       "      <td>73.1</td>\n",
       "      <td>69.9</td>\n",
       "      <td>76.5</td>\n",
       "      <td>Oceania</td>\n",
       "    </tr>\n",
       "    <tr>\n",
       "      <th>135</th>\n",
       "      <td>136</td>\n",
       "      <td>Federated States of Micronesia</td>\n",
       "      <td>72.9</td>\n",
       "      <td>70.8</td>\n",
       "      <td>75.0</td>\n",
       "      <td>Oceania</td>\n",
       "    </tr>\n",
       "    <tr>\n",
       "      <th>139</th>\n",
       "      <td>140</td>\n",
       "      <td>Fiji</td>\n",
       "      <td>72.7</td>\n",
       "      <td>70.0</td>\n",
       "      <td>75.5</td>\n",
       "      <td>Oceania</td>\n",
       "    </tr>\n",
       "    <tr>\n",
       "      <th>167</th>\n",
       "      <td>168</td>\n",
       "      <td>Papua New Guinea</td>\n",
       "      <td>67.2</td>\n",
       "      <td>65.0</td>\n",
       "      <td>69.5</td>\n",
       "      <td>Oceania</td>\n",
       "    </tr>\n",
       "    <tr>\n",
       "      <th>168</th>\n",
       "      <td>169</td>\n",
       "      <td>Nauru</td>\n",
       "      <td>67.1</td>\n",
       "      <td>63.0</td>\n",
       "      <td>70.5</td>\n",
       "      <td>Oceania</td>\n",
       "    </tr>\n",
       "    <tr>\n",
       "      <th>171</th>\n",
       "      <td>172</td>\n",
       "      <td>Tuvalu</td>\n",
       "      <td>66.5</td>\n",
       "      <td>64.3</td>\n",
       "      <td>68.8</td>\n",
       "      <td>Oceania</td>\n",
       "    </tr>\n",
       "    <tr>\n",
       "      <th>172</th>\n",
       "      <td>173</td>\n",
       "      <td>Kiribati</td>\n",
       "      <td>66.2</td>\n",
       "      <td>63.7</td>\n",
       "      <td>68.8</td>\n",
       "      <td>Oceania</td>\n",
       "    </tr>\n",
       "  </tbody>\n",
       "</table>\n",
       "</div>"
      ],
      "text/plain": [
       "    Rank                         Country  Overall Life  Male Life  \\\n",
       "13    14                       Australia          82.2       79.8   \n",
       "28    29                     New Zealand          81.2       79.1   \n",
       "43    44               Wallis and Futuna          79.7       76.7   \n",
       "63    64    Northern Mariana Islands, US          78.0       75.3   \n",
       "66    67                   New Caledonia          77.7       73.7   \n",
       "71    72                French Polynesia          77.2       74.9   \n",
       "88    89                           Tonga          76.2       74.7   \n",
       "93    94                    Cook Islands          75.8       73.0   \n",
       "102  103                  American Samoa          75.4       72.4   \n",
       "106  107                 Solomon Islands          75.3       72.7   \n",
       "127  128                           Samoa          73.7       70.8   \n",
       "129  130                         Vanuatu          73.4       71.8   \n",
       "133  134                Marshall Islands          73.1       70.9   \n",
       "134  135                           Palau          73.1       69.9   \n",
       "135  136  Federated States of Micronesia          72.9       70.8   \n",
       "139  140                            Fiji          72.7       70.0   \n",
       "167  168                Papua New Guinea          67.2       65.0   \n",
       "168  169                           Nauru          67.1       63.0   \n",
       "171  172                          Tuvalu          66.5       64.3   \n",
       "172  173                        Kiribati          66.2       63.7   \n",
       "\n",
       "     Female Life Continent  \n",
       "13          84.8   Oceania  \n",
       "28          83.3   Oceania  \n",
       "43          82.8   Oceania  \n",
       "63          80.8   Oceania  \n",
       "66          81.9   Oceania  \n",
       "71          79.6   Oceania  \n",
       "88          77.8   Oceania  \n",
       "93          78.8   Oceania  \n",
       "102         78.5   Oceania  \n",
       "106         78.1   Oceania  \n",
       "127         76.8   Oceania  \n",
       "129         75.1   Oceania  \n",
       "133         75.4   Oceania  \n",
       "134         76.5   Oceania  \n",
       "135         75.0   Oceania  \n",
       "139         75.5   Oceania  \n",
       "167         69.5   Oceania  \n",
       "168         70.5   Oceania  \n",
       "171         68.8   Oceania  \n",
       "172         68.8   Oceania  "
      ]
     },
     "execution_count": 35,
     "metadata": {},
     "output_type": "execute_result"
    }
   ],
   "source": [
    "led[led['Continent']=='Oceania']"
   ]
  },
  {
   "cell_type": "code",
   "execution_count": 36,
   "id": "f53b1426",
   "metadata": {},
   "outputs": [
    {
     "data": {
      "text/plain": [
       "Overall Life    74.230\n",
       "Male Life       71.625\n",
       "Female Life     76.915\n",
       "dtype: float64"
      ]
     },
     "execution_count": 36,
     "metadata": {},
     "output_type": "execute_result"
    }
   ],
   "source": [
    "led[led['Continent']=='Oceania'].mean()"
   ]
  },
  {
   "cell_type": "markdown",
   "id": "62982929",
   "metadata": {},
   "source": [
    "#### Пункт 1.1 Выаолнен, был открыт файл, как датасет, средня  продолжительность жизни общая - Overall Life, и для мужчин и женщин отдельно сответсвенно. "
   ]
  },
  {
   "cell_type": "markdown",
   "id": "f5efdb6d",
   "metadata": {},
   "source": [
    "### 1.2"
   ]
  },
  {
   "cell_type": "code",
   "execution_count": 38,
   "id": "9f5694a5",
   "metadata": {},
   "outputs": [],
   "source": [
    "import string\n",
    "default_symbols=string.ascii_letters"
   ]
  },
  {
   "cell_type": "code",
   "execution_count": 40,
   "id": "9c4209d9",
   "metadata": {},
   "outputs": [],
   "source": [
    "default_symbols=default_symbols+\"., \""
   ]
  },
  {
   "cell_type": "code",
   "execution_count": 41,
   "id": "f7e2a629",
   "metadata": {},
   "outputs": [
    {
     "data": {
      "text/plain": [
       "'abcdefghijklmnopqrstuvwxyzABCDEFGHIJKLMNOPQRSTUVWXYZ., '"
      ]
     },
     "execution_count": 41,
     "metadata": {},
     "output_type": "execute_result"
    }
   ],
   "source": [
    "default_symbols"
   ]
  },
  {
   "cell_type": "code",
   "execution_count": 57,
   "id": "1dd6a495",
   "metadata": {},
   "outputs": [
    {
     "name": "stdout",
     "output_type": "stream",
     "text": [
      "People's Republic of China\n",
      "Timor-Leste\n",
      "Cote d'Ivoire\n",
      "Guinea-Bissau\n"
     ]
    }
   ],
   "source": [
    "for index in range(led.shape[0]):\n",
    "    cntry=led.loc[index,'Country']\n",
    "    if not all(x in default_symbols for x in cntry):\n",
    "        print(cntry)"
   ]
  },
  {
   "cell_type": "markdown",
   "id": "b874513f",
   "metadata": {},
   "source": [
    "Вот страны требуемы по заданию"
   ]
  },
  {
   "cell_type": "code",
   "execution_count": 58,
   "id": "fdf58e67",
   "metadata": {},
   "outputs": [],
   "source": [
    "cntrs=[]\n",
    "for index in range(led.shape[0]):\n",
    "    cntry=led.loc[index,'Country']\n",
    "    if not all(x in default_symbols for x in cntry):\n",
    "        cntrs.append(cntry)"
   ]
  },
  {
   "cell_type": "code",
   "execution_count": 92,
   "id": "579f3e99",
   "metadata": {},
   "outputs": [
    {
     "name": "stdout",
     "output_type": "stream",
     "text": [
      "People's Republic of China :  4.400000000000006\n",
      "Timor-Leste :  3.200000000000003\n",
      "Cote d'Ivoire :  2.3999999999999986\n",
      "Guinea-Bissau :  4.100000000000001\n"
     ]
    }
   ],
   "source": [
    "result=[]\n",
    "for c in cntrs:\n",
    "    m=led[led['Country']==c]\n",
    "    fm=m['Female Life'].values[0]\n",
    "    mm=m['Male Life'].values[0]\n",
    "    print(c,\": \", float(fm)-float(mm))"
   ]
  },
  {
   "cell_type": "markdown",
   "id": "e9da5629",
   "metadata": {},
   "source": [
    "Пункт 1.2 выполнен."
   ]
  },
  {
   "cell_type": "markdown",
   "id": "16d8d581",
   "metadata": {},
   "source": [
    "### 1.3"
   ]
  },
  {
   "cell_type": "code",
   "execution_count": 115,
   "id": "6c885326",
   "metadata": {},
   "outputs": [
    {
     "data": {
      "text/html": [
       "<div>\n",
       "<style scoped>\n",
       "    .dataframe tbody tr th:only-of-type {\n",
       "        vertical-align: middle;\n",
       "    }\n",
       "\n",
       "    .dataframe tbody tr th {\n",
       "        vertical-align: top;\n",
       "    }\n",
       "\n",
       "    .dataframe thead th {\n",
       "        text-align: right;\n",
       "    }\n",
       "</style>\n",
       "<table border=\"1\" class=\"dataframe\">\n",
       "  <thead>\n",
       "    <tr style=\"text-align: right;\">\n",
       "      <th></th>\n",
       "      <th>Rank</th>\n",
       "      <th>Country</th>\n",
       "      <th>Overall Life</th>\n",
       "      <th>Male Life</th>\n",
       "      <th>Female Life</th>\n",
       "      <th>Continent</th>\n",
       "    </tr>\n",
       "  </thead>\n",
       "  <tbody>\n",
       "    <tr>\n",
       "      <th>205</th>\n",
       "      <td>206</td>\n",
       "      <td>Democratic Republic of the Congo</td>\n",
       "      <td>57.3</td>\n",
       "      <td>55.8</td>\n",
       "      <td>58.9</td>\n",
       "      <td>Africa</td>\n",
       "    </tr>\n",
       "    <tr>\n",
       "      <th>104</th>\n",
       "      <td>105</td>\n",
       "      <td>Saint Vincent and the Grenadines</td>\n",
       "      <td>75.3</td>\n",
       "      <td>73.3</td>\n",
       "      <td>77.4</td>\n",
       "      <td>North America</td>\n",
       "    </tr>\n",
       "    <tr>\n",
       "      <th>44</th>\n",
       "      <td>45</td>\n",
       "      <td>Saint Helena, Ascension and Tristan da Cunha</td>\n",
       "      <td>79.5</td>\n",
       "      <td>76.6</td>\n",
       "      <td>82.6</td>\n",
       "      <td>Africa</td>\n",
       "    </tr>\n",
       "  </tbody>\n",
       "</table>\n",
       "</div>"
      ],
      "text/plain": [
       "    Rank                                       Country  Overall Life  \\\n",
       "205  206              Democratic Republic of the Congo          57.3   \n",
       "104  105              Saint Vincent and the Grenadines          75.3   \n",
       "44    45  Saint Helena, Ascension and Tristan da Cunha          79.5   \n",
       "\n",
       "     Male Life  Female Life      Continent  \n",
       "205       55.8         58.9         Africa  \n",
       "104       73.3         77.4  North America  \n",
       "44        76.6         82.6         Africa  "
      ]
     },
     "execution_count": 115,
     "metadata": {},
     "output_type": "execute_result"
    }
   ],
   "source": [
    "#led[led['Country'].str.len().sort_values()]\n",
    "idx=led.Country.str.len().sort_values().index\n",
    "led.loc[idx[-3:]]"
   ]
  },
  {
   "cell_type": "markdown",
   "id": "51ef9a54",
   "metadata": {},
   "source": [
    "#### так пункт 1.3 выполнен\n",
    "самый популярный континент Африка"
   ]
  },
  {
   "cell_type": "markdown",
   "id": "94b2dee3",
   "metadata": {},
   "source": [
    "## Часть 2"
   ]
  },
  {
   "cell_type": "markdown",
   "id": "72ed2ebc",
   "metadata": {},
   "source": [
    "### 2.1"
   ]
  },
  {
   "cell_type": "code",
   "execution_count": 3,
   "id": "e0553051",
   "metadata": {},
   "outputs": [],
   "source": [
    "from PIL import Image, ImageEnhance\n",
    "im = Image.open(\"./training_datasets/matrix.png\")"
   ]
  },
  {
   "cell_type": "code",
   "execution_count": 55,
   "id": "b9a5619e",
   "metadata": {},
   "outputs": [
    {
     "name": "stdout",
     "output_type": "stream",
     "text": [
      "<PIL.PngImagePlugin.PngImageFile image mode=RGB size=987x660 at 0x2076A178880>\n"
     ]
    }
   ],
   "source": [
    "im1r = np.array(im, np.uint8)\n",
    " \n",
    "im1r[::, ::, 2] = \n",
    "\n",
    "# Creating an image from the modified array\n",
    "im1 = Image.fromarray(im1r)\n",
    "plt.imshow(im1)"
   ]
  },
  {
   "cell_type": "code",
   "execution_count": 57,
   "id": "cda9841b",
   "metadata": {},
   "outputs": [
    {
     "data": {
      "text/plain": [
       "<matplotlib.image.AxesImage at 0x20779b27100>"
      ]
     },
     "execution_count": 57,
     "metadata": {},
     "output_type": "execute_result"
    },
    {
     "data": {
      "image/png": "[encoded data removed]",
      "text/plain": [
       "<Figure size 432x288 with 1 Axes>"
      ]
     },
     "metadata": {
      "needs_background": "light"
     },
     "output_type": "display_data"
    }
   ],
   "source": [
    "\n",
    "enhancer = ImageEnhance.Contrast(im)\n",
    "factor = 2\n",
    "im_output = enhancer.enhance(factor)\n",
    "import matplotlib.pyplot as plt\n",
    "plt.imshow(im_output)\n"
   ]
  },
  {
   "cell_type": "code",
   "execution_count": 67,
   "id": "2f9b9b36",
   "metadata": {},
   "outputs": [
    {
     "data": {
      "image/png": "[encoded data removed]",
      "text/plain": [
       "<Figure size 432x288 with 1 Axes>"
      ]
     },
     "metadata": {
      "needs_background": "light"
     },
     "output_type": "display_data"
    }
   ],
   "source": [
    "import numpy as np\n",
    "import matplotlib.pyplot as plt\n",
    "import matplotlib.image as mpimg\n",
    "\n",
    "def rgb2gray(rgb):\n",
    "    return np.dot(rgb[...,:3], [0.2989, 0.5870, 0.1140])\n",
    "\n",
    "img = mpimg.imread('./training_datasets/matrix.png')     \n",
    "gray = rgb2gray(img)    \n",
    "plt.imshow(gray, cmap=plt.get_cmap('gray'), vmin=0, vmax=1)\n",
    "plt.show()"
   ]
  },
  {
   "cell_type": "markdown",
   "id": "58c3ad1b",
   "metadata": {},
   "source": [
    "## Часть 3"
   ]
  },
  {
   "cell_type": "markdown",
   "id": "78a7f965",
   "metadata": {},
   "source": [
    "### 3.1"
   ]
  },
  {
   "cell_type": "code",
   "execution_count": 85,
   "id": "1297ccae",
   "metadata": {},
   "outputs": [
    {
     "name": "stdout",
     "output_type": "stream",
     "text": [
      "Количество строк = 21617\n",
      "Слово человек встрелось раз 0\n"
     ]
    }
   ],
   "source": [
    "import codecs\n",
    "fileObj = codecs.open( \"./training_datasets/Aristotle.txt\", \"r\", \"utf_8_sig\" )\n",
    "text = fileObj.readlines()\n",
    "textt=fileObj.read()\n",
    "c=textt.lower().count('человек')\n",
    "print('Количество строк =',len(text))\n",
    "print(\"Слово человек встрелось раз\",c)\n",
    "fileObj.close()"
   ]
  },
  {
   "cell_type": "markdown",
   "id": "0b0d9e82",
   "metadata": {},
   "source": [
    "## Часть 4"
   ]
  },
  {
   "cell_type": "code",
   "execution_count": 93,
   "id": "6a06eba4",
   "metadata": {
    "scrolled": true
   },
   "outputs": [
    {
     "name": "stdout",
     "output_type": "stream",
     "text": [
      "<class 'pandas.core.frame.DataFrame'>\n",
      "Int64Index: 121273 entries, 0 to 121272\n",
      "Data columns (total 2 columns):\n",
      " #   Column    Non-Null Count   Dtype  \n",
      "---  ------    --------------   -----  \n",
      " 0   Datetime  121273 non-null  object \n",
      " 1   AEP_MW    121273 non-null  float64\n",
      "dtypes: float64(1), object(1)\n",
      "memory usage: 2.8+ MB\n"
     ]
    }
   ],
   "source": [
    "df1=pd.read_csv('./training_datasets/Energy_consumption/AEP_hourly.csv')\n",
    "df1 = df1[~df1.index.duplicated(keep='first')]\n",
    "df1.info()"
   ]
  },
  {
   "cell_type": "code",
   "execution_count": 96,
   "id": "78d8a8f7",
   "metadata": {},
   "outputs": [],
   "source": [
    "df_paths=['./training_datasets/Energy_consumption/AEP_hourly.csv',\n",
    "          './training_datasets/Energy_consumption/COMED_hourly.csv',\n",
    "          './training_datasets/Energy_consumption/DAYTON_hourly.csv',\n",
    "          './training_datasets/Energy_consumption/DEOK_hourly.csv'\n",
    "          './training_datasets/Energy_consumption/DOM_hourly.feather',\n",
    "          './training_datasets/Energy_consumption/DUQ_hourly.csv',\n",
    "          './training_datasets/Energy_consumption/EKPC_hourly.csv',\n",
    "          './training_datasets/Energy_consumption/FE_hourly.HDF',\n",
    "          './training_datasets/Energy_consumption/NI_hourly.csv',\n",
    "          './training_datasets/Energy_consumption/PJME_hourly.csv',\n",
    "          './training_datasets/Energy_consumption/PJMW_hourly.csv',\n",
    "           './training_datasets/Energy_consumption/PJM_Load_hourly.json',\n",
    "           './training_datasets/Energy_consumption/pjm_hourly_est.csv'\n",
    "         ]"
   ]
  },
  {
   "cell_type": "code",
   "execution_count": 103,
   "id": "a2429307",
   "metadata": {},
   "outputs": [],
   "source": [
    "def generate(path):\n",
    "    dfs=[]\n",
    "    for i in df_paths:\n",
    "        if i[-4:0]=='.csv':\n",
    "            print(i[-4:0])\n",
    "            df1=pd.read_csv('./training_datasets/Energy_consumption/AEP_hourly.csv')\n",
    "            df1 = df1[~df1.index.duplicated(keep='first')]\n",
    "            dfs.append(i)\n",
    "    print(len(dfs))\n",
    "    df=pd.concat(dfs, ignore_index=False)\n",
    "    df.to_csv(\"./data.csv\")"
   ]
  },
  {
   "cell_type": "code",
   "execution_count": 104,
   "id": "63c46f6f",
   "metadata": {},
   "outputs": [
    {
     "name": "stdout",
     "output_type": "stream",
     "text": [
      "0\n"
     ]
    },
    {
     "ename": "ValueError",
     "evalue": "No objects to concatenate",
     "output_type": "error",
     "traceback": [
      "\u001b[1;31m---------------------------------------------------------------------------\u001b[0m",
      "\u001b[1;31mValueError\u001b[0m                                Traceback (most recent call last)",
      "Input \u001b[1;32mIn [104]\u001b[0m, in \u001b[0;36m<cell line: 1>\u001b[1;34m()\u001b[0m\n\u001b[1;32m----> 1\u001b[0m \u001b[43mgenerate\u001b[49m\u001b[43m(\u001b[49m\u001b[43mdf_paths\u001b[49m\u001b[43m)\u001b[49m\n",
      "Input \u001b[1;32mIn [103]\u001b[0m, in \u001b[0;36mgenerate\u001b[1;34m(path)\u001b[0m\n\u001b[0;32m      8\u001b[0m         dfs\u001b[38;5;241m.\u001b[39mappend(i)\n\u001b[0;32m      9\u001b[0m \u001b[38;5;28mprint\u001b[39m(\u001b[38;5;28mlen\u001b[39m(dfs))\n\u001b[1;32m---> 10\u001b[0m df\u001b[38;5;241m=\u001b[39m\u001b[43mpd\u001b[49m\u001b[38;5;241;43m.\u001b[39;49m\u001b[43mconcat\u001b[49m\u001b[43m(\u001b[49m\u001b[43mdfs\u001b[49m\u001b[43m,\u001b[49m\u001b[43m \u001b[49m\u001b[43mignore_index\u001b[49m\u001b[38;5;241;43m=\u001b[39;49m\u001b[38;5;28;43;01mFalse\u001b[39;49;00m\u001b[43m)\u001b[49m\n\u001b[0;32m     11\u001b[0m df\u001b[38;5;241m.\u001b[39mto_csv(\u001b[38;5;124m\"\u001b[39m\u001b[38;5;124m./data.csv\u001b[39m\u001b[38;5;124m\"\u001b[39m)\n",
      "File \u001b[1;32mC:\\Program Files\\Anaconda\\lib\\site-packages\\pandas\\util\\_decorators.py:311\u001b[0m, in \u001b[0;36mdeprecate_nonkeyword_arguments.<locals>.decorate.<locals>.wrapper\u001b[1;34m(*args, **kwargs)\u001b[0m\n\u001b[0;32m    305\u001b[0m \u001b[38;5;28;01mif\u001b[39;00m \u001b[38;5;28mlen\u001b[39m(args) \u001b[38;5;241m>\u001b[39m num_allow_args:\n\u001b[0;32m    306\u001b[0m     warnings\u001b[38;5;241m.\u001b[39mwarn(\n\u001b[0;32m    307\u001b[0m         msg\u001b[38;5;241m.\u001b[39mformat(arguments\u001b[38;5;241m=\u001b[39marguments),\n\u001b[0;32m    308\u001b[0m         \u001b[38;5;167;01mFutureWarning\u001b[39;00m,\n\u001b[0;32m    309\u001b[0m         stacklevel\u001b[38;5;241m=\u001b[39mstacklevel,\n\u001b[0;32m    310\u001b[0m     )\n\u001b[1;32m--> 311\u001b[0m \u001b[38;5;28;01mreturn\u001b[39;00m func(\u001b[38;5;241m*\u001b[39margs, \u001b[38;5;241m*\u001b[39m\u001b[38;5;241m*\u001b[39mkwargs)\n",
      "File \u001b[1;32mC:\\Program Files\\Anaconda\\lib\\site-packages\\pandas\\core\\reshape\\concat.py:347\u001b[0m, in \u001b[0;36mconcat\u001b[1;34m(objs, axis, join, ignore_index, keys, levels, names, verify_integrity, sort, copy)\u001b[0m\n\u001b[0;32m    143\u001b[0m \u001b[38;5;129m@deprecate_nonkeyword_arguments\u001b[39m(version\u001b[38;5;241m=\u001b[39m\u001b[38;5;28;01mNone\u001b[39;00m, allowed_args\u001b[38;5;241m=\u001b[39m[\u001b[38;5;124m\"\u001b[39m\u001b[38;5;124mobjs\u001b[39m\u001b[38;5;124m\"\u001b[39m])\n\u001b[0;32m    144\u001b[0m \u001b[38;5;28;01mdef\u001b[39;00m \u001b[38;5;21mconcat\u001b[39m(\n\u001b[0;32m    145\u001b[0m     objs: Iterable[NDFrame] \u001b[38;5;241m|\u001b[39m Mapping[Hashable, NDFrame],\n\u001b[1;32m   (...)\u001b[0m\n\u001b[0;32m    154\u001b[0m     copy: \u001b[38;5;28mbool\u001b[39m \u001b[38;5;241m=\u001b[39m \u001b[38;5;28;01mTrue\u001b[39;00m,\n\u001b[0;32m    155\u001b[0m ) \u001b[38;5;241m-\u001b[39m\u001b[38;5;241m>\u001b[39m DataFrame \u001b[38;5;241m|\u001b[39m Series:\n\u001b[0;32m    156\u001b[0m     \u001b[38;5;124;03m\"\"\"\u001b[39;00m\n\u001b[0;32m    157\u001b[0m \u001b[38;5;124;03m    Concatenate pandas objects along a particular axis with optional set logic\u001b[39;00m\n\u001b[0;32m    158\u001b[0m \u001b[38;5;124;03m    along the other axes.\u001b[39;00m\n\u001b[1;32m   (...)\u001b[0m\n\u001b[0;32m    345\u001b[0m \u001b[38;5;124;03m    ValueError: Indexes have overlapping values: ['a']\u001b[39;00m\n\u001b[0;32m    346\u001b[0m \u001b[38;5;124;03m    \"\"\"\u001b[39;00m\n\u001b[1;32m--> 347\u001b[0m     op \u001b[38;5;241m=\u001b[39m \u001b[43m_Concatenator\u001b[49m\u001b[43m(\u001b[49m\n\u001b[0;32m    348\u001b[0m \u001b[43m        \u001b[49m\u001b[43mobjs\u001b[49m\u001b[43m,\u001b[49m\n\u001b[0;32m    349\u001b[0m \u001b[43m        \u001b[49m\u001b[43maxis\u001b[49m\u001b[38;5;241;43m=\u001b[39;49m\u001b[43maxis\u001b[49m\u001b[43m,\u001b[49m\n\u001b[0;32m    350\u001b[0m \u001b[43m        \u001b[49m\u001b[43mignore_index\u001b[49m\u001b[38;5;241;43m=\u001b[39;49m\u001b[43mignore_index\u001b[49m\u001b[43m,\u001b[49m\n\u001b[0;32m    351\u001b[0m \u001b[43m        \u001b[49m\u001b[43mjoin\u001b[49m\u001b[38;5;241;43m=\u001b[39;49m\u001b[43mjoin\u001b[49m\u001b[43m,\u001b[49m\n\u001b[0;32m    352\u001b[0m \u001b[43m        \u001b[49m\u001b[43mkeys\u001b[49m\u001b[38;5;241;43m=\u001b[39;49m\u001b[43mkeys\u001b[49m\u001b[43m,\u001b[49m\n\u001b[0;32m    353\u001b[0m \u001b[43m        \u001b[49m\u001b[43mlevels\u001b[49m\u001b[38;5;241;43m=\u001b[39;49m\u001b[43mlevels\u001b[49m\u001b[43m,\u001b[49m\n\u001b[0;32m    354\u001b[0m \u001b[43m        \u001b[49m\u001b[43mnames\u001b[49m\u001b[38;5;241;43m=\u001b[39;49m\u001b[43mnames\u001b[49m\u001b[43m,\u001b[49m\n\u001b[0;32m    355\u001b[0m \u001b[43m        \u001b[49m\u001b[43mverify_integrity\u001b[49m\u001b[38;5;241;43m=\u001b[39;49m\u001b[43mverify_integrity\u001b[49m\u001b[43m,\u001b[49m\n\u001b[0;32m    356\u001b[0m \u001b[43m        \u001b[49m\u001b[43mcopy\u001b[49m\u001b[38;5;241;43m=\u001b[39;49m\u001b[43mcopy\u001b[49m\u001b[43m,\u001b[49m\n\u001b[0;32m    357\u001b[0m \u001b[43m        \u001b[49m\u001b[43msort\u001b[49m\u001b[38;5;241;43m=\u001b[39;49m\u001b[43msort\u001b[49m\u001b[43m,\u001b[49m\n\u001b[0;32m    358\u001b[0m \u001b[43m    \u001b[49m\u001b[43m)\u001b[49m\n\u001b[0;32m    360\u001b[0m     \u001b[38;5;28;01mreturn\u001b[39;00m op\u001b[38;5;241m.\u001b[39mget_result()\n",
      "File \u001b[1;32mC:\\Program Files\\Anaconda\\lib\\site-packages\\pandas\\core\\reshape\\concat.py:404\u001b[0m, in \u001b[0;36m_Concatenator.__init__\u001b[1;34m(self, objs, axis, join, keys, levels, names, ignore_index, verify_integrity, copy, sort)\u001b[0m\n\u001b[0;32m    401\u001b[0m     objs \u001b[38;5;241m=\u001b[39m \u001b[38;5;28mlist\u001b[39m(objs)\n\u001b[0;32m    403\u001b[0m \u001b[38;5;28;01mif\u001b[39;00m \u001b[38;5;28mlen\u001b[39m(objs) \u001b[38;5;241m==\u001b[39m \u001b[38;5;241m0\u001b[39m:\n\u001b[1;32m--> 404\u001b[0m     \u001b[38;5;28;01mraise\u001b[39;00m \u001b[38;5;167;01mValueError\u001b[39;00m(\u001b[38;5;124m\"\u001b[39m\u001b[38;5;124mNo objects to concatenate\u001b[39m\u001b[38;5;124m\"\u001b[39m)\n\u001b[0;32m    406\u001b[0m \u001b[38;5;28;01mif\u001b[39;00m keys \u001b[38;5;129;01mis\u001b[39;00m \u001b[38;5;28;01mNone\u001b[39;00m:\n\u001b[0;32m    407\u001b[0m     objs \u001b[38;5;241m=\u001b[39m \u001b[38;5;28mlist\u001b[39m(com\u001b[38;5;241m.\u001b[39mnot_none(\u001b[38;5;241m*\u001b[39mobjs))\n",
      "\u001b[1;31mValueError\u001b[0m: No objects to concatenate"
     ]
    }
   ],
   "source": [
    "generate(df_paths)"
   ]
  }
 ],
 "metadata": {
  "kernelspec": {
   "display_name": "Python 3 (ipykernel)",
   "language": "python",
   "name": "python3"
  },
  "language_info": {
   "codemirror_mode": {
    "name": "ipython",
    "version": 3
   },
   "file_extension": ".py",
   "mimetype": "text/x-python",
   "name": "python",
   "nbconvert_exporter": "python",
   "pygments_lexer": "ipython3",
   "version": "3.9.12"
  }
 },
 "nbformat": 4,
 "nbformat_minor": 5
}
